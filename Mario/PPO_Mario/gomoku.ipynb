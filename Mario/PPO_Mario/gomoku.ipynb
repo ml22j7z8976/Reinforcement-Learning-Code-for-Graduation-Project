{
 "cells": [
  {
   "cell_type": "code",
   "execution_count": 2,
   "id": "479bc7c8",
   "metadata": {},
   "outputs": [
    {
     "name": "stdout",
     "output_type": "stream",
     "text": [
      "Player 1 wins!\n"
     ]
    },
    {
     "ename": "SystemExit",
     "evalue": "",
     "output_type": "error",
     "traceback": [
      "An exception has occurred, use %tb to see the full traceback.\n",
      "\u001b[1;31mSystemExit\u001b[0m\n"
     ]
    }
   ],
   "source": [
    "import pygame\n",
    "import sys\n",
    "\n",
    "# 初始化 Pygame\n",
    "pygame.init()\n",
    "\n",
    "# 设置屏幕大小\n",
    "screen_size = 600\n",
    "grid_size = 40\n",
    "board_size = 15\n",
    "screen = pygame.display.set_mode((screen_size, screen_size))\n",
    "pygame.display.set_caption(\"Gomoku\")\n",
    "\n",
    "# 颜色定义\n",
    "BLACK = (0, 0, 0)\n",
    "WHITE = (255, 255, 255)\n",
    "BACKGROUND_COLOR = (249, 214, 91)\n",
    "\n",
    "# 初始化棋盘\n",
    "board = [[0 for _ in range(board_size)] for _ in range(board_size)]\n",
    "current_player = 1  # 1 for black, 2 for white\n",
    "\n",
    "def draw_board():\n",
    "    screen.fill(BACKGROUND_COLOR)\n",
    "    for i in range(board_size):\n",
    "        pygame.draw.line(screen, BLACK, (grid_size, grid_size * (i + 1)), (grid_size * board_size, grid_size * (i + 1)), 1)\n",
    "        pygame.draw.line(screen, BLACK, (grid_size * (i + 1), grid_size), (grid_size * (i + 1), grid_size * board_size), 1)\n",
    "\n",
    "def draw_pieces():\n",
    "    for y in range(board_size):\n",
    "        for x in range(board_size):\n",
    "            if board[y][x] == 1:\n",
    "                pygame.draw.circle(screen, BLACK, (x * grid_size + grid_size, y * grid_size + grid_size), grid_size // 2 - 2)\n",
    "            elif board[y][x] == 2:\n",
    "                pygame.draw.circle(screen, WHITE, (x * grid_size + grid_size, y * grid_size + grid_size), grid_size // 2 - 2)\n",
    "\n",
    "def check_winner():\n",
    "    directions = [(1, 0), (0, 1), (1, 1), (1, -1)]\n",
    "    for y in range(board_size):\n",
    "        for x in range(board_size):\n",
    "            if board[y][x] != 0:\n",
    "                player = board[y][x]\n",
    "                for dx, dy in directions:\n",
    "                    count = 1\n",
    "                    for step in range(1, 5):\n",
    "                        nx, ny = x + step * dx, y + step * dy\n",
    "                        if 0 <= nx < board_size and 0 <= ny < board_size and board[ny][nx] == player:\n",
    "                            count += 1\n",
    "                        else:\n",
    "                            break\n",
    "                    if count == 5:\n",
    "                        return player\n",
    "    return 0\n",
    "\n",
    "def main():\n",
    "    global current_player\n",
    "\n",
    "    clock = pygame.time.Clock()\n",
    "    running = True\n",
    "    while running:\n",
    "        for event in pygame.event.get():\n",
    "            if event.type == pygame.QUIT:\n",
    "                running = False\n",
    "            elif event.type == pygame.MOUSEBUTTONDOWN:\n",
    "                x, y = event.pos\n",
    "                grid_x = x // grid_size\n",
    "                grid_y = y // grid_size\n",
    "                if 0 <= grid_x < board_size and 0 <= grid_y < board_size and board[grid_y][grid_x] == 0:\n",
    "                    board[grid_y][grid_x] = current_player\n",
    "                    winner = check_winner()\n",
    "                    if winner:\n",
    "                        print(f\"Player {winner} wins!\")\n",
    "                        running = False\n",
    "                    current_player = 3 - current_player\n",
    "\n",
    "        draw_board()\n",
    "        draw_pieces()\n",
    "        pygame.display.flip()\n",
    "        clock.tick(30)\n",
    "\n",
    "    pygame.quit()\n",
    "    sys.exit()\n",
    "\n",
    "if __name__ == \"__main__\":\n",
    "    main()\n"
   ]
  },
  {
   "cell_type": "code",
   "execution_count": null,
   "id": "73fe2b41",
   "metadata": {},
   "outputs": [
    {
     "name": "stdout",
     "output_type": "stream",
     "text": [
      " | | | | \n",
      "---------\n",
      " | | | | \n",
      "---------\n",
      " | | | | \n",
      "---------\n",
      " | | | | \n",
      "---------\n",
      " | | | | \n",
      "---------\n",
      "Player X's turn.\n"
     ]
    }
   ],
   "source": [
    "def initialize_board(size):\n",
    "    return [[' ' for _ in range(size)] for _ in range(size)]\n",
    "\n",
    "def print_board(board):\n",
    "    size = len(board)\n",
    "    for row in board:\n",
    "        print('|'.join(row))\n",
    "        print('-' * (2 * size - 1))\n",
    "\n",
    "def check_winner(board, size):\n",
    "    # Check rows and columns\n",
    "    for i in range(size):\n",
    "        if all(board[i][j] == 'X' for j in range(size)) or all(board[j][i] == 'X' for j in range(size)):\n",
    "            return 'X'\n",
    "        if all(board[i][j] == 'O' for j in range(size)) or all(board[j][i] == 'O' for j in range(size)):\n",
    "            return 'O'\n",
    "\n",
    "    # Check diagonals\n",
    "    if all(board[i][i] == 'X' for i in range(size)) or all(board[i][size - 1 - i] == 'X' for i in range(size)):\n",
    "        return 'X'\n",
    "    if all(board[i][i] == 'O' for i in range(size)) or all(board[i][size - 1 - i] == 'O' for i in range(size)):\n",
    "        return 'O'\n",
    "\n",
    "    # No winner\n",
    "    return None\n",
    "\n",
    "def check_draw(board):\n",
    "    return all(cell != ' ' for row in board for cell in row)\n",
    "\n",
    "def play_game():\n",
    "    size = 5\n",
    "    board = initialize_board(size)\n",
    "    current_player = 'X'\n",
    "\n",
    "    while True:\n",
    "        print_board(board)\n",
    "        print(f\"Player {current_player}'s turn.\")\n",
    "        try:\n",
    "            row = int(input(f\"Enter the row (1-{size}): \")) - 1\n",
    "            col = int(input(f\"Enter the column (1-{size}): \")) - 1\n",
    "        except ValueError:\n",
    "            print(\"Invalid input. Please enter numbers only.\")\n",
    "            continue\n",
    "\n",
    "        if row < 0 or row >= size or col < 0 or col >= size or board[row][col] != ' ':\n",
    "            print(\"Invalid move. Try again.\")\n",
    "            continue\n",
    "\n",
    "        board[row][col] = current_player\n",
    "\n",
    "        winner = check_winner(board, size)\n",
    "        if winner:\n",
    "            print_board(board)\n",
    "            print(f\"Player {winner} wins!\")\n",
    "            break\n",
    "\n",
    "        if check_draw(board):\n",
    "            print_board(board)\n",
    "            print(\"It's a draw!\")\n",
    "            break\n",
    "\n",
    "        current_player = 'O' if current_player == 'X' else 'X'\n",
    "\n",
    "if __name__ == \"__main__\":\n",
    "    play_game()"
   ]
  },
  {
   "cell_type": "code",
   "execution_count": 1,
   "id": "fd9083bf",
   "metadata": {},
   "outputs": [
    {
     "ename": "AttributeError",
     "evalue": "module 'tensorflow' has no attribute '__version__'",
     "output_type": "error",
     "traceback": [
      "\u001b[1;31m---------------------------------------------------------------------------\u001b[0m",
      "\u001b[1;31mAttributeError\u001b[0m                            Traceback (most recent call last)",
      "\u001b[1;32mD:\\temp\\ipykernel_26052\\926589766.py\u001b[0m in \u001b[0;36m<cell line: 2>\u001b[1;34m()\u001b[0m\n\u001b[0;32m      1\u001b[0m \u001b[1;32mimport\u001b[0m \u001b[0mtensorflow\u001b[0m \u001b[1;32mas\u001b[0m \u001b[0mtf\u001b[0m\u001b[1;33m\u001b[0m\u001b[1;33m\u001b[0m\u001b[0m\n\u001b[1;32m----> 2\u001b[1;33m \u001b[0mprint\u001b[0m\u001b[1;33m(\u001b[0m\u001b[0mtf\u001b[0m\u001b[1;33m.\u001b[0m\u001b[0m__version__\u001b[0m\u001b[1;33m)\u001b[0m\u001b[1;33m\u001b[0m\u001b[1;33m\u001b[0m\u001b[0m\n\u001b[0m",
      "\u001b[1;31mAttributeError\u001b[0m: module 'tensorflow' has no attribute '__version__'"
     ]
    }
   ],
   "source": [
    "import tensorflow as tf\n",
    "print(tf.__version__)"
   ]
  },
  {
   "cell_type": "code",
   "execution_count": 3,
   "id": "63ada20e",
   "metadata": {},
   "outputs": [
    {
     "name": "stderr",
     "output_type": "stream",
     "text": [
      "'grep' 不是内部或外部命令，也不是可运行的程序\n",
      "或批处理文件。\n"
     ]
    }
   ],
   "source": [
    "pip list | grep tensorflow"
   ]
  }
 ],
 "metadata": {
  "kernelspec": {
   "display_name": "Python 3 (ipykernel)",
   "language": "python",
   "name": "python3"
  },
  "language_info": {
   "codemirror_mode": {
    "name": "ipython",
    "version": 3
   },
   "file_extension": ".py",
   "mimetype": "text/x-python",
   "name": "python",
   "nbconvert_exporter": "python",
   "pygments_lexer": "ipython3",
   "version": "3.8.19"
  }
 },
 "nbformat": 4,
 "nbformat_minor": 5
}
