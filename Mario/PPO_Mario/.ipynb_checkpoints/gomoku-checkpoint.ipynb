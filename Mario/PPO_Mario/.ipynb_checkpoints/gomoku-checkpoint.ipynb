{
 "cells": [
  {
   "cell_type": "code",
   "execution_count": 1,
   "id": "479bc7c8",
   "metadata": {},
   "outputs": [
    {
     "name": "stdout",
     "output_type": "stream",
     "text": [
      "pygame 2.5.2 (SDL 2.28.3, Python 3.11.5)\n",
      "Hello from the pygame community. https://www.pygame.org/contribute.html\n",
      "Player 1 wins!\n"
     ]
    },
    {
     "ename": "SystemExit",
     "evalue": "",
     "output_type": "error",
     "traceback": [
      "An exception has occurred, use %tb to see the full traceback.\n",
      "\u001b[1;31mSystemExit\u001b[0m\n"
     ]
    },
    {
     "name": "stderr",
     "output_type": "stream",
     "text": [
      "D:\\Programs\\anaconda\\Lib\\site-packages\\IPython\\core\\interactiveshell.py:3534: UserWarning: To exit: use 'exit', 'quit', or Ctrl-D.\n",
      "  warn(\"To exit: use 'exit', 'quit', or Ctrl-D.\", stacklevel=1)\n"
     ]
    }
   ],
   "source": [
    "import pygame\n",
    "import sys\n",
    "\n",
    "# 初始化 Pygame\n",
    "pygame.init()\n",
    "\n",
    "# 设置屏幕大小\n",
    "screen_size = 600\n",
    "grid_size = 40\n",
    "board_size = 15\n",
    "screen = pygame.display.set_mode((screen_size, screen_size))\n",
    "pygame.display.set_caption(\"Gomoku\")\n",
    "\n",
    "# 颜色定义\n",
    "BLACK = (0, 0, 0)\n",
    "WHITE = (255, 255, 255)\n",
    "BACKGROUND_COLOR = (249, 214, 91)\n",
    "\n",
    "# 初始化棋盘\n",
    "board = [[0 for _ in range(board_size)] for _ in range(board_size)]\n",
    "current_player = 1  # 1 for black, 2 for white\n",
    "\n",
    "def draw_board():\n",
    "    screen.fill(BACKGROUND_COLOR)\n",
    "    for i in range(board_size):\n",
    "        pygame.draw.line(screen, BLACK, (grid_size, grid_size * (i + 1)), (grid_size * board_size, grid_size * (i + 1)), 1)\n",
    "        pygame.draw.line(screen, BLACK, (grid_size * (i + 1), grid_size), (grid_size * (i + 1), grid_size * board_size), 1)\n",
    "\n",
    "def draw_pieces():\n",
    "    for y in range(board_size):\n",
    "        for x in range(board_size):\n",
    "            if board[y][x] == 1:\n",
    "                pygame.draw.circle(screen, BLACK, (x * grid_size + grid_size, y * grid_size + grid_size), grid_size // 2 - 2)\n",
    "            elif board[y][x] == 2:\n",
    "                pygame.draw.circle(screen, WHITE, (x * grid_size + grid_size, y * grid_size + grid_size), grid_size // 2 - 2)\n",
    "\n",
    "def check_winner():\n",
    "    directions = [(1, 0), (0, 1), (1, 1), (1, -1)]\n",
    "    for y in range(board_size):\n",
    "        for x in range(board_size):\n",
    "            if board[y][x] != 0:\n",
    "                player = board[y][x]\n",
    "                for dx, dy in directions:\n",
    "                    count = 1\n",
    "                    for step in range(1, 5):\n",
    "                        nx, ny = x + step * dx, y + step * dy\n",
    "                        if 0 <= nx < board_size and 0 <= ny < board_size and board[ny][nx] == player:\n",
    "                            count += 1\n",
    "                        else:\n",
    "                            break\n",
    "                    if count == 5:\n",
    "                        return player\n",
    "    return 0\n",
    "\n",
    "def main():\n",
    "    global current_player\n",
    "\n",
    "    clock = pygame.time.Clock()\n",
    "    running = True\n",
    "    while running:\n",
    "        for event in pygame.event.get():\n",
    "            if event.type == pygame.QUIT:\n",
    "                running = False\n",
    "            elif event.type == pygame.MOUSEBUTTONDOWN:\n",
    "                x, y = event.pos\n",
    "                grid_x = x // grid_size\n",
    "                grid_y = y // grid_size\n",
    "                if 0 <= grid_x < board_size and 0 <= grid_y < board_size and board[grid_y][grid_x] == 0:\n",
    "                    board[grid_y][grid_x] = current_player\n",
    "                    winner = check_winner()\n",
    "                    if winner:\n",
    "                        print(f\"Player {winner} wins!\")\n",
    "                        running = False\n",
    "                    current_player = 3 - current_player\n",
    "\n",
    "        draw_board()\n",
    "        draw_pieces()\n",
    "        pygame.display.flip()\n",
    "        clock.tick(30)\n",
    "\n",
    "    pygame.quit()\n",
    "    sys.exit()\n",
    "\n",
    "if __name__ == \"__main__\":\n",
    "    main()\n"
   ]
  }
 ],
 "metadata": {
  "kernelspec": {
   "display_name": "Python 3 (ipykernel)",
   "language": "python",
   "name": "python3"
  },
  "language_info": {
   "codemirror_mode": {
    "name": "ipython",
    "version": 3
   },
   "file_extension": ".py",
   "mimetype": "text/x-python",
   "name": "python",
   "nbconvert_exporter": "python",
   "pygments_lexer": "ipython3",
   "version": "3.11.5"
  }
 },
 "nbformat": 4,
 "nbformat_minor": 5
}
